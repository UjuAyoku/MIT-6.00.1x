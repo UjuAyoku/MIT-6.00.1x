{
 "cells": [
  {
   "cell_type": "code",
   "execution_count": 1,
   "metadata": {},
   "outputs": [
    {
     "name": "stdout",
     "output_type": "stream",
     "text": [
      "Number of guesses = 4\n",
      "Square root of 24.0 is about 4.8989887432139305\n"
     ]
    }
   ],
   "source": [
    "#Arrives at answer for square roots, cube roots, and polynomials with way less guesses ie quickly\n",
    "epsilon = 0.01\n",
    "y = 24.0\n",
    "guess = y/2.0\n",
    "num_guesses = 0\n",
    "#generate guesses\n",
    "while abs(guess*guess - y) >= epsilon:\n",
    "    num_guesses += 1\n",
    "    #Newton-Raphson formula \n",
    "    guess = guess - (((guess**2)-y)/(2*guess))\n",
    "print('Number of guesses = ' + str(num_guesses))\n",
    "print('Square root of ' + str(y) + ' is about ' + str(guess))"
   ]
  },
  {
   "cell_type": "code",
   "execution_count": null,
   "metadata": {},
   "outputs": [],
   "source": []
  }
 ],
 "metadata": {
  "kernelspec": {
   "display_name": "Python 3",
   "language": "python",
   "name": "python3"
  },
  "language_info": {
   "codemirror_mode": {
    "name": "ipython",
    "version": 3
   },
   "file_extension": ".py",
   "mimetype": "text/x-python",
   "name": "python",
   "nbconvert_exporter": "python",
   "pygments_lexer": "ipython3",
   "version": "3.7.6"
  }
 },
 "nbformat": 4,
 "nbformat_minor": 4
}
