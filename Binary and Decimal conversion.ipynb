{
 "cells": [
  {
   "cell_type": "code",
   "execution_count": 3,
   "metadata": {},
   "outputs": [
    {
     "data": {
      "text/plain": [
       "'10011 '"
      ]
     },
     "execution_count": 3,
     "metadata": {},
     "output_type": "execute_result"
    }
   ],
   "source": [
    "#CONVERTING BINARY TO DECIMAL\n",
    "num = 19 \n",
    "if num < 0:\n",
    "    is_neg = True\n",
    "    num = abs(num)\n",
    "else:\n",
    "    is_neg = False\n",
    "    result = ' '\n",
    "if num == 0:\n",
    "    result = '0'\n",
    "while num > 0:\n",
    "    result = str(num % 2) + result\n",
    "    num = num//2\n",
    "if is_neg:\n",
    "    result = '-' + result\n",
    "result"
   ]
  },
  {
   "cell_type": "code",
   "execution_count": 6,
   "metadata": {},
   "outputs": [
    {
     "name": "stdout",
     "output_type": "stream",
     "text": [
      "Enter a decimal number from 0 to 1: 1.375\n",
      "Remainder: 0.375\n",
      "Remainder: 0.75\n",
      "Remainder: 0.5\n",
      "The binary representation of the decimal 1.375 is 10.11 \n"
     ]
    }
   ],
   "source": [
    "#FLOATING POINT/FRACTIONS\n",
    "x = float(input('Enter a decimal number from 0 to 1: '))\n",
    "p = 0\n",
    "while((2**p)*x) % 1 !=0:\n",
    "    print ('Remainder: ' + str((2**p)*x - int((2**p)*x)))\n",
    "    p += 1\n",
    "num = int(x*(2**p))\n",
    "result = ' '\n",
    "if num == 0:\n",
    "    result = '0'\n",
    "while num > 0:\n",
    "    result = str(num%2) + result\n",
    "    num = num//2\n",
    "for i in range(p-len(result)):\n",
    "    result = '0' + result\n",
    "result = result[0:-p] + '.' + result[-p:]\n",
    "print('The binary representation of the decimal '+ str(x) + ' is ' + str(result))"
   ]
  },
  {
   "cell_type": "code",
   "execution_count": null,
   "metadata": {},
   "outputs": [],
   "source": []
  }
 ],
 "metadata": {
  "kernelspec": {
   "display_name": "Python 3",
   "language": "python",
   "name": "python3"
  },
  "language_info": {
   "codemirror_mode": {
    "name": "ipython",
    "version": 3
   },
   "file_extension": ".py",
   "mimetype": "text/x-python",
   "name": "python",
   "nbconvert_exporter": "python",
   "pygments_lexer": "ipython3",
   "version": "3.7.6"
  }
 },
 "nbformat": 4,
 "nbformat_minor": 4
}
