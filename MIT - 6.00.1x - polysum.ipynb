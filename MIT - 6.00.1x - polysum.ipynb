{
 "cells": [
  {
   "cell_type": "code",
   "execution_count": 3,
   "metadata": {},
   "outputs": [],
   "source": [
    "import math \n",
    "def polysum(n,s):\n",
    "    '''\n",
    "    Takes 2 arguments, 'n' and 's' and sums the area and square of the perimeter of the regular polygon. \n",
    "    n: number of sides\n",
    "    s: each side has length 's'\n",
    "    \n",
    "    Returns: the sum, rounded to 4 decimal places.\n",
    "    '''\n",
    "    #calculate area\n",
    "    area = (0.25*n*s*s)/(math.tan(math.pi/n))\n",
    "    #calculate perimeter\n",
    "    perimeter = n * s\n",
    "    #sum the area and square of the perimeter\n",
    "    result = area + perimeter **2\n",
    "    #return the result rounded to 4 decimal places\n",
    "    return round(result,4)\n"
   ]
  },
  {
   "cell_type": "code",
   "execution_count": null,
   "metadata": {},
   "outputs": [],
   "source": []
  }
 ],
 "metadata": {
  "kernelspec": {
   "display_name": "Python 3",
   "language": "python",
   "name": "python3"
  },
  "language_info": {
   "codemirror_mode": {
    "name": "ipython",
    "version": 3
   },
   "file_extension": ".py",
   "mimetype": "text/x-python",
   "name": "python",
   "nbconvert_exporter": "python",
   "pygments_lexer": "ipython3",
   "version": "3.7.6"
  }
 },
 "nbformat": 4,
 "nbformat_minor": 4
}
